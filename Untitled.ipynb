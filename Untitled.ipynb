{
 "cells": [
  {
   "cell_type": "markdown",
   "id": "b7e54bc7",
   "metadata": {},
   "source": [
    "# 读写分子"
   ]
  },
  {
   "cell_type": "code",
   "execution_count": 3,
   "id": "10c03f02",
   "metadata": {},
   "outputs": [
    {
     "data": {
      "text/plain": [
       "'Cc1ccccc1'"
      ]
     },
     "execution_count": 3,
     "metadata": {},
     "output_type": "execute_result"
    }
   ],
   "source": [
    "from rdkit import Chem\n",
    "\n",
    "# 读化合物分子·example\n",
    "m = Chem.MolFromSmiles('Cc1ccccc1')   #读取Smiles\n",
    "# m = Chem.MolFromMolFile('data/input.mol')    #读取.mol文件\n",
    "# stringWithMolData=open('data/input.mol','r').read()\n",
    "# m = Chem.MolFromMolBlock(stringWithMolData)\n",
    "\n",
    "# 写化合物分子·example\n",
    "# m = Chem.MolFromMolFile('data/chiral.mol')\n",
    "Chem.MolToSmiles(m) # 结果显示： 'C[C@H](O)c1ccccc1'"
   ]
  },
  {
   "cell_type": "markdown",
   "id": "426d77e3",
   "metadata": {},
   "source": [
    "# 化学描述符生成\n",
    "大多数描述符可通过集中式rdkit.Chem.Descriptors模块从Python直接使用"
   ]
  },
  {
   "cell_type": "code",
   "execution_count": 4,
   "id": "af2ecbab",
   "metadata": {},
   "outputs": [
    {
     "data": {
      "text/plain": [
       "1.3848"
      ]
     },
     "execution_count": 4,
     "metadata": {},
     "output_type": "execute_result"
    }
   ],
   "source": [
    "from rdkit.Chem import Descriptors\n",
    "\n",
    "# 读取化合物分子\n",
    "m = Chem.MolFromSmiles('c1ccccc1C(=O)O')\n",
    "Descriptors.TPSA(m)\n",
    "Descriptors.MolLogP(m)"
   ]
  },
  {
   "cell_type": "markdown",
   "id": "52def4dd",
   "metadata": {},
   "source": [
    "# 分子指纹提取 & 分子相似性计算\n",
    "化合物分子指纹主要分为三种，分别是:\n",
    "1. Topological FP"
   ]
  },
  {
   "cell_type": "code",
   "execution_count": 9,
   "id": "80852427",
   "metadata": {},
   "outputs": [
    {
     "data": {
      "text/plain": [
       "0.6"
      ]
     },
     "execution_count": 9,
     "metadata": {},
     "output_type": "execute_result"
    }
   ],
   "source": [
    "from rdkit import DataStructs\n",
    "\n",
    "# 提取分子指纹 \n",
    "m1 = Chem.MolFromSmiles('CCOC')\n",
    "m2 = Chem.MolFromSmiles('CCO')\n",
    "fps1 = Chem.RDKFingerprint(m1)\n",
    "fps2 = Chem.RDKFingerprint(m2)\n",
    "\n",
    "# 计算分子相似性\n",
    "from rdkit import DataStructs\n",
    "DataStructs.FingerprintSimilarity(fps1,fps2)\n",
    "\n",
    "# 分子指纹默认参数: \n",
    "# - minimum path size: 1 bond \n",
    "# - maximum path size: 7 bonds \n",
    "# - fingerprint size: 2048 bits \n",
    "# - number of bits set per hash: 2 \n",
    "# - minimum fingerprint size: 64 bits \n",
    "# - target on-bit density 0.0"
   ]
  },
  {
   "cell_type": "markdown",
   "id": "5324760f",
   "metadata": {},
   "source": [
    "2. MACCS Keys"
   ]
  },
  {
   "cell_type": "code",
   "execution_count": 11,
   "id": "5a3a6de9",
   "metadata": {},
   "outputs": [
    {
     "data": {
      "text/plain": [
       "0.5"
      ]
     },
     "execution_count": 11,
     "metadata": {},
     "output_type": "execute_result"
    }
   ],
   "source": [
    "from rdkit.Chem import MACCSkeys\n",
    "\n",
    "# 提取分子指纹MACCS\n",
    "ms = [Chem.MolFromSmiles('CCOC'), Chem.MolFromSmiles('CCO'),\n",
    "    Chem.MolFromSmiles('COC')]\n",
    "fps = [MACCSkeys.GenMACCSKeys(x) for x in ms]\n",
    "\n",
    "# 计算分子相似性\n",
    "from rdkit import DataStructs\n",
    "DataStructs.FingerprintSimilarity(fps[0],fps[1])"
   ]
  },
  {
   "cell_type": "markdown",
   "id": "c125f475",
   "metadata": {},
   "source": [
    "3. Atom Pairs and Topological Torsions"
   ]
  },
  {
   "cell_type": "code",
   "execution_count": 12,
   "id": "73125b50",
   "metadata": {},
   "outputs": [
    {
     "data": {
      "text/plain": [
       "0.2222222222222222"
      ]
     },
     "execution_count": 12,
     "metadata": {},
     "output_type": "execute_result"
    }
   ],
   "source": [
    "from rdkit.Chem.AtomPairs import Pairs\n",
    "\n",
    "# 提取分子指纹MACCS\n",
    "ms = [Chem.MolFromSmiles('CCOC'), Chem.MolFromSmiles('CCO'),\n",
    "    Chem.MolFromSmiles('COC')]\n",
    "pairFps = [Pairs.GetAtomPairFingerprint(x) for x in ms]\n",
    "#pairFps = [Pairs.GetAtomPairFingerprintAsBitVect(x) for x in ms]\n",
    "\n",
    "# 计算分子相似性\n",
    "from rdkit import DataStructs\n",
    "DataStructs.DiceSimilarity(pairFps[0],pairFps[1])"
   ]
  },
  {
   "cell_type": "code",
   "execution_count": null,
   "id": "595aee51",
   "metadata": {},
   "outputs": [],
   "source": []
  }
 ],
 "metadata": {
  "kernelspec": {
   "display_name": "Python 3 (ipykernel)",
   "language": "python",
   "name": "python3"
  },
  "language_info": {
   "codemirror_mode": {
    "name": "ipython",
    "version": 3
   },
   "file_extension": ".py",
   "mimetype": "text/x-python",
   "name": "python",
   "nbconvert_exporter": "python",
   "pygments_lexer": "ipython3",
   "version": "3.11.5"
  }
 },
 "nbformat": 4,
 "nbformat_minor": 5
}
