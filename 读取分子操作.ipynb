{
 "cells": [
  {
   "cell_type": "markdown",
   "id": "a3548b1d",
   "metadata": {},
   "source": [
    "# (1)从SMILES/SMARTS直接读取"
   ]
  },
  {
   "cell_type": "code",
   "execution_count": 6,
   "id": "0f05acb7",
   "metadata": {},
   "outputs": [
    {
     "name": "stdout",
     "output_type": "stream",
     "text": [
      "<rdkit.Chem.rdchem.Mol object at 0x000001B0E98540B0>\n",
      "<class 'rdkit.Chem.rdchem.Mol'>\n",
      "<rdkit.Chem.rdchem.Mol object at 0x000001B0E9854120>\n",
      "<class 'rdkit.Chem.rdchem.Mol'>\n"
     ]
    }
   ],
   "source": [
    "from rdkit import Chem\n",
    "\n",
    "smi = 'C[C@H](O)c1ccccc1'\n",
    "\n",
    "mol = Chem.MolFromSmiles(smi)\n",
    "sms = Chem.MolFromSmarts('Cc1ccccc1')\n",
    "\n",
    "print(mol)\n",
    "print(type(mol))\n",
    "print(sms)\n",
    "print(type(sms))"
   ]
  },
  {
   "cell_type": "markdown",
   "id": "ebaae28f",
   "metadata": {},
   "source": [
    "# (2)批量读取smiles\n",
    "- 从.smi批量读取"
   ]
  },
  {
   "cell_type": "code",
   "execution_count": 8,
   "id": "74812451",
   "metadata": {},
   "outputs": [
    {
     "name": "stdout",
     "output_type": "stream",
     "text": [
      "<rdkit.Chem.rdmolfiles.SmilesMolSupplier object at 0x000001B0E983C860>\n",
      "['C1=CC=CC=CC=C1', 'c1ccccc1', 'c1ccoc1']\n"
     ]
    }
   ],
   "source": [
    "suppl = Chem.SmilesMolSupplier('data/batch_smiles.smi', delimiter='\\t')\n",
    "print(suppl)\n",
    "mols = [Chem.MolToSmiles(mol) for mol in suppl]\n",
    "print(mols)"
   ]
  },
  {
   "cell_type": "markdown",
   "id": "6a9e7683",
   "metadata": {},
   "source": [
    "- 从文本批量读取\n"
   ]
  },
  {
   "cell_type": "code",
   "execution_count": 12,
   "id": "238555ff",
   "metadata": {},
   "outputs": [
    {
     "name": "stdout",
     "output_type": "stream",
     "text": [
      "['C1=CC=CC=CC=C1', 'c1ccccc1', 'c1ccoc1']\n"
     ]
    }
   ],
   "source": [
    "with open('data/batch_smiles.smi', 'r') as f:\n",
    "    mols_text = f.read()\n",
    "suppl = Chem.SmilesMolSupplierFromText(mols_text, delimiter='\\t')\n",
    "mols = [Chem.MolToSmiles(mol) for mol in suppl]\n",
    "print(mols)"
   ]
  },
  {
   "cell_type": "markdown",
   "id": "a4d0bbff",
   "metadata": {},
   "source": [
    "- 读取DataFrame中的SMILES:\n",
    "\n",
    "`PandasTools.AddMoleculeColumnToFrame(frame, smilesCol, molCol, includeFingerPrints)`\n"
   ]
  },
  {
   "cell_type": "code",
   "execution_count": 15,
   "id": "a02bc455",
   "metadata": {},
   "outputs": [
    {
     "data": {
      "text/html": [
       "<div>\n",
       "<style scoped>\n",
       "    .dataframe tbody tr th:only-of-type {\n",
       "        vertical-align: middle;\n",
       "    }\n",
       "\n",
       "    .dataframe tbody tr th {\n",
       "        vertical-align: top;\n",
       "    }\n",
       "\n",
       "    .dataframe thead th {\n",
       "        text-align: right;\n",
       "    }\n",
       "</style>\n",
       "<table border=\"1\" class=\"dataframe\">\n",
       "  <thead>\n",
       "    <tr style=\"text-align: right;\">\n",
       "      <th></th>\n",
       "      <th>Name</th>\n",
       "      <th>SMILES</th>\n",
       "    </tr>\n",
       "  </thead>\n",
       "  <tbody>\n",
       "    <tr>\n",
       "      <th>0</th>\n",
       "      <td>Lanreotide</td>\n",
       "      <td>c1(c2c(cccc2)[nH]c1)C[C@@H]1NC(=O)[C@@H](Cc2cc...</td>\n",
       "    </tr>\n",
       "    <tr>\n",
       "      <th>1</th>\n",
       "      <td>Lansoprazole</td>\n",
       "      <td>Cc1c(OCC(F)(F)F)ccnc1CS(=O)c2nc3ccccc3[nH]2</td>\n",
       "    </tr>\n",
       "    <tr>\n",
       "      <th>2</th>\n",
       "      <td>Laromustine</td>\n",
       "      <td>CS(=O)(=O)[N@@](N(S(=O)(=O)C)C(=O)NC)CCCl</td>\n",
       "    </tr>\n",
       "    <tr>\n",
       "      <th>3</th>\n",
       "      <td>Laropiprant</td>\n",
       "      <td>CS(=O)(=O)c1cc(cc2c1n(c3c2CC[C@@H]3CC(=O)O)Cc4...</td>\n",
       "    </tr>\n",
       "    <tr>\n",
       "      <th>4</th>\n",
       "      <td>Larotaxel</td>\n",
       "      <td>O=C1[C@@]23[C@@H]([C@@]4(OC(=O)C)[C@@H](C[C@@H...</td>\n",
       "    </tr>\n",
       "  </tbody>\n",
       "</table>\n",
       "</div>"
      ],
      "text/plain": [
       "           Name                                             SMILES\n",
       "0    Lanreotide  c1(c2c(cccc2)[nH]c1)C[C@@H]1NC(=O)[C@@H](Cc2cc...\n",
       "1  Lansoprazole        Cc1c(OCC(F)(F)F)ccnc1CS(=O)c2nc3ccccc3[nH]2\n",
       "2   Laromustine          CS(=O)(=O)[N@@](N(S(=O)(=O)C)C(=O)NC)CCCl\n",
       "3   Laropiprant  CS(=O)(=O)c1cc(cc2c1n(c3c2CC[C@@H]3CC(=O)O)Cc4...\n",
       "4     Larotaxel  O=C1[C@@]23[C@@H]([C@@]4(OC(=O)C)[C@@H](C[C@@H..."
      ]
     },
     "execution_count": 15,
     "metadata": {},
     "output_type": "execute_result"
    }
   ],
   "source": [
    "import pandas as pd\n",
    "from rdkit.Chem import PandasTools, Descriptors\n",
    "df = pd.read_csv('data/smiles_df.csv')\n",
    "df"
   ]
  },
  {
   "cell_type": "code",
   "execution_count": 18,
   "id": "98743430",
   "metadata": {},
   "outputs": [
    {
     "name": "stdout",
     "output_type": "stream",
     "text": [
      "           Name                                             SMILES  \\\n",
      "0    Lanreotide  c1(c2c(cccc2)[nH]c1)C[C@@H]1NC(=O)[C@@H](Cc2cc...   \n",
      "1  Lansoprazole        Cc1c(OCC(F)(F)F)ccnc1CS(=O)c2nc3ccccc3[nH]2   \n",
      "2   Laromustine          CS(=O)(=O)[N@@](N(S(=O)(=O)C)C(=O)NC)CCCl   \n",
      "3   Laropiprant  CS(=O)(=O)c1cc(cc2c1n(c3c2CC[C@@H]3CC(=O)O)Cc4...   \n",
      "4     Larotaxel  O=C1[C@@]23[C@@H]([C@@]4(OC(=O)C)[C@@H](C[C@@H...   \n",
      "\n",
      "                                                 mol        MW  \n",
      "0  <rdkit.Chem.rdchem.Mol object at 0x000001B0EBD...  1096.347  \n",
      "1  <rdkit.Chem.rdchem.Mol object at 0x000001B0EBD...   369.368  \n",
      "2  <rdkit.Chem.rdchem.Mol object at 0x000001B0EBC...   307.781  \n",
      "3  <rdkit.Chem.rdchem.Mol object at 0x000001B0EBC...   435.904  \n",
      "4  <rdkit.Chem.rdchem.Mol object at 0x000001B0EBC...   831.912  \n"
     ]
    }
   ],
   "source": [
    "PandasTools.AddMoleculeColumnToFrame(df, 'SMILES', 'mol', includeFingerprints=True)\n",
    "df['MW'] = df['mol'].apply(Descriptors.MolWt)\n",
    "print(df.head())"
   ]
  },
  {
   "cell_type": "markdown",
   "id": "9497576f",
   "metadata": {},
   "source": [
    "2. 读入sdf文件\n",
    "- 从.sdf里批量读取"
   ]
  },
  {
   "cell_type": "code",
   "execution_count": 20,
   "id": "19b1f70c",
   "metadata": {},
   "outputs": [
    {
     "name": "stdout",
     "output_type": "stream",
     "text": [
      "['C1=C\\\\C=C/C=C\\\\C=C/1', 'c1ccccc1', 'c1ccoc1']\n"
     ]
    }
   ],
   "source": [
    "from rdkit import Chem\n",
    "suppl = Chem.SDMolSupplier('data/batch.sdf')\n",
    "mols = [Chem.MolToSmiles(mol) for mol in suppl if mol]\n",
    "print(mols)"
   ]
  },
  {
   "cell_type": "markdown",
   "id": "fd5cc148",
   "metadata": {},
   "source": [
    "3. 读入mol文件\n",
    "- 从.mol里读取"
   ]
  },
  {
   "cell_type": "code",
   "execution_count": 31,
   "id": "104b1fb6",
   "metadata": {},
   "outputs": [
    {
     "name": "stdout",
     "output_type": "stream",
     "text": [
      "C1CCC1\n"
     ]
    }
   ],
   "source": [
    "mol = Chem.MolFromMolFile('data/output.mol')\n",
    "print(Chem.MolToSmiles(mol))"
   ]
  },
  {
   "cell_type": "markdown",
   "id": "c42e7300",
   "metadata": {},
   "source": [
    "4. 读入多肽字符串"
   ]
  },
  {
   "cell_type": "code",
   "execution_count": 25,
   "id": "280c6ebc",
   "metadata": {},
   "outputs": [
    {
     "name": "stdout",
     "output_type": "stream",
     "text": [
      "smi NCC(=O)NCC(=O)NCC(=O)NCC(=O)NCC(=O)O\n"
     ]
    }
   ],
   "source": [
    "seq = 'GGGGG'\n",
    "mol = Chem.MolFromSequence(seq)\n",
    "smi = Chem.MolToSmiles(mol)\n",
    "print(\"smi\", smi)"
   ]
  },
  {
   "cell_type": "markdown",
   "id": "ee9192ff",
   "metadata": {},
   "source": [
    "5. 读入inchi"
   ]
  },
  {
   "cell_type": "code",
   "execution_count": 26,
   "id": "76e204df",
   "metadata": {},
   "outputs": [],
   "source": [
    "# "
   ]
  },
  {
   "cell_type": "markdown",
   "id": "674db0b4",
   "metadata": {},
   "source": [
    "6. 其他格式"
   ]
  },
  {
   "cell_type": "code",
   "execution_count": 27,
   "id": "3571e58d",
   "metadata": {},
   "outputs": [],
   "source": [
    "# "
   ]
  },
  {
   "cell_type": "code",
   "execution_count": null,
   "id": "e0880fe7",
   "metadata": {},
   "outputs": [],
   "source": []
  }
 ],
 "metadata": {
  "kernelspec": {
   "display_name": "Python 3 (ipykernel)",
   "language": "python",
   "name": "python3"
  },
  "language_info": {
   "codemirror_mode": {
    "name": "ipython",
    "version": 3
   },
   "file_extension": ".py",
   "mimetype": "text/x-python",
   "name": "python",
   "nbconvert_exporter": "python",
   "pygments_lexer": "ipython3",
   "version": "3.11.5"
  }
 },
 "nbformat": 4,
 "nbformat_minor": 5
}
